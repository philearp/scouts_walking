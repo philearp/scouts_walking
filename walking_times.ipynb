{
 "nbformat": 4,
 "nbformat_minor": 2,
 "metadata": {
  "language_info": {
   "name": "python",
   "codemirror_mode": {
    "name": "ipython",
    "version": 3
   },
   "version": "3.7.3-final"
  },
  "orig_nbformat": 2,
  "file_extension": ".py",
  "mimetype": "text/x-python",
  "name": "python",
  "npconvert_exporter": "python",
  "pygments_lexer": "ipython3",
  "version": 3,
  "kernelspec": {
   "name": "python3",
   "display_name": "Python 3"
  }
 },
 "cells": [
  {
   "cell_type": "code",
   "execution_count": 3,
   "metadata": {},
   "outputs": [],
   "source": [
    "import numpy as np"
   ]
  },
  {
   "cell_type": "code",
   "execution_count": 33,
   "metadata": {},
   "outputs": [],
   "source": [
    "dist = np.array([0.9, 2.4, 1.4, 0.8, 1.2])\n",
    "height = np.array([15, 5, 10, 5, 10])\n",
    "ones = np.ones_like(dist)\n",
    "\n",
    "A = np.vstack([dist, height, np.ones(len(dist))]).T\n",
    ""
   ]
  },
  {
   "cell_type": "code",
   "execution_count": 47,
   "metadata": {},
   "outputs": [
    {
     "output_type": "stream",
     "name": "stdout",
     "text": "[23. 55. 53. 15. 24.]\n"
    }
   ],
   "source": [
    "from datetime import datetime\n",
    "def calc_timediff(d1, d2):\n",
    "    fmt = '%H:%M'\n",
    "    datetime_start = datetime.strptime(d1, fmt)\n",
    "    datetime_end = datetime.strptime(d2, fmt)\n",
    "    minutes_diff = (datetime_end - datetime_start).total_seconds() / 60.0\n",
    "    return minutes_diff\n",
    "\n",
    "mins = calc_timediff('17:31', '17:38')\n",
    "\n",
    "\n",
    "times = np.array([calc_timediff('19:30', '19:53'),\n",
    "    calc_timediff('19:53', '20:48'),\n",
    "    calc_timediff('20:48', '21:41'),\n",
    "    calc_timediff('21:41', '21:56'),\n",
    "    calc_timediff('21:56', '22:20')]) # minutes\n",
    "\n",
    "print(times)\n",
    "\n",
    "#times = np.array([21, 54, 32, 18, 28]) # minutes\n",
    ""
   ]
  },
  {
   "cell_type": "code",
   "execution_count": 49,
   "metadata": {},
   "outputs": [
    {
     "output_type": "stream",
     "name": "stdout",
     "text": "pace = 27 minutes per km\nclimbing adds 94 minutes per 100m\nadditional time of -11 minutes added\n"
    }
   ],
   "source": [
    "pace, climb, err = np.linalg.lstsq(A, times)[0]\n",
    "\n",
    "print('pace = {0:2.0f} minutes per km'.format(pace))\n",
    "print('climbing adds {0:2.0f} minutes per 100m'.format(climb*100))\n",
    "print('additional time of {0:2.0f} minutes added'.format(err))"
   ]
  }
 ]
}